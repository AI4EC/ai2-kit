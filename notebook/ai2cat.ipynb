{
 "cells": [
  {
   "cell_type": "markdown",
   "id": "5c1592f9-a581-42e9-8b71-cd4ac44181ec",
   "metadata": {},
   "source": [
    "# AI2-Cat Calculation Notebook\n",
    "此 Notebook 将演示如何从一个结构文件出发，借助 `ai2-cat` 所提供的工具构建执行 AIMD, 势函数训练和性质计算的配置文件并执行以得到所需求数据的方法。\n",
    "\n",
    "1. 提供初始结构，进行AIMD模拟获取获取轨迹文件与相关能量和力等信息 (可选)\n",
    "2. 收集轨迹中的结构与对应的能量和力转化为机器学习势函数可训练的数据集格式\n",
    "3. 基于上述的训练数据集训练机器学习势函数\n",
    "4. 基于上述的机器学习势函数进行分子动力学模拟+增强采样，获取新的结构\n",
    "5. 基于力误差判据筛选出新的结构\n",
    "6. 对上述的新结构进行第一性原理计算获取结构对应的能量和力并加入数据集\n",
    "7. 迭代步骤3-6直至步骤5无法筛选出新的构象\n",
    "8. 基于最后的机器学习势函数进行分子动力学模拟+增强采样\n",
    "9. 基于模拟结果计算反应自由能\n"
   ]
  },
  {
   "cell_type": "code",
   "execution_count": null,
   "id": "caf610bd-d7bf-4628-b830-bca3b24de59b",
   "metadata": {},
   "outputs": [],
   "source": [
    "%matplotlib inline\n",
    "\n",
    "from ai2_kit.feat import catalysis as ai2cat\n",
    "import os\n",
    "AI4EC_DIR = '/public/groups/ai4ec/data'  # 公共资源目录\n",
    "CP2K_DATA = f'{AI4EC_DIR}/cp2k'\n",
    "CP2K_BATCH_TEMPLATE = f'{AI4EC_DIR}/slurm/cp2k.sbatch'\n",
    "ui = ai2cat.get_the_ui_helper()\n",
    "\n",
    "#dev\n",
    "CP2K_DATA = \"./\"\n",
    "AI4EC_DIR = \"./\""
   ]
  },
  {
   "cell_type": "markdown",
   "id": "8636f5a9",
   "metadata": {},
   "source": [
    "# 初始数据集准备\n",
    "初始数据集是启动势函数训练的必要输入。如果已经有适用于 DeepMD 的初始数据集和用于 LAMMPS 结构搜索的初始结构，则可以直接上传相应数据直接进入下一步的势函数训练中。\n",
    "\n",
    "如果没有所需的数据，则可以采用本节所提供的 AIMD 相关功能生成所需的数据。"
   ]
  },
  {
   "cell_type": "markdown",
   "id": "97a10a9b-48f2-4ff9-a27f-ac97918dd716",
   "metadata": {},
   "source": [
    "## 生成 AIMD 配置\n",
    "计算所需要的结构文件（支持 xyz, cif, POSCAR 等格式) 需自行构建并上传，然后使用以下命令即可生成用于 AIMD 执行的 CP2K 配置。"
   ]
  },
  {
   "cell_type": "code",
   "execution_count": null,
   "id": "6215c8f0-6f30-4f19-9710-200885af7402",
   "metadata": {},
   "outputs": [],
   "source": [
    "! mkdir -p ./00-aimd\n",
    "ui.gen_aimd_config(cp2k_search_path=CP2K_DATA, out_dir='./00-aimd')"
   ]
  },
  {
   "cell_type": "markdown",
   "id": "5417448a-48ac-4eab-8ec1-b8b560d1ceb0",
   "metadata": {},
   "source": [
    "此时 `00-aimd` 目录里能找到生成的 CP2K 配置和数据文件。\n",
    "通过左边栏打开文件可进行检查或编辑。\n",
    "\n",
    "确认无误后可使用 CP2K 作业模板提交任务。\n",
    "\n",
    "## 提交 AIMD 作业"
   ]
  },
  {
   "cell_type": "code",
   "execution_count": null,
   "id": "db955539-3729-41f5-9cea-325e562a8fb4",
   "metadata": {},
   "outputs": [],
   "source": [
    "# 复制作业提交脚本到任务目录 (复制后可根据需要进行调整)\n",
    "! cp {CP2K_BATCH_TEMPLATE} ./00-aimd/"
   ]
  },
  {
   "cell_type": "code",
   "execution_count": null,
   "id": "f0dc5197-e6f0-4706-8cb5-d071af40c900",
   "metadata": {},
   "outputs": [],
   "source": [
    "# 提交作业\n",
    "! (cd ./00-aimd && sbatch cp2k.sbatch)"
   ]
  },
  {
   "cell_type": "code",
   "execution_count": null,
   "id": "076c07fb-3ab7-4312-905f-4527631c5914",
   "metadata": {},
   "outputs": [],
   "source": [
    "# 检查作业执行情况\n",
    "! squeue -u $USER"
   ]
  },
  {
   "cell_type": "markdown",
   "id": "91fd6859",
   "metadata": {},
   "source": [
    "### 生成 DeepMD 数据集和初始文件\n",
    "\n",
    "AIMD 作业完成后会在工作目录下生成相应的结构和力数据。通过 `ai2-kit` 所提供的数据格式处理工具可以很轻松地完成这项任务。\n",
    "\n",
    "相关工具的详细使用文档，可参考 [ai2-kit ase](https://github.com/chenggroup/ai2-kit/blob/main/doc/manual/ase.md) 和 [ai2-kit dpdata](https://github.com/chenggroup/ai2-kit/blob/main/doc/manual/dpdata.md)"
   ]
  },
  {
   "cell_type": "code",
   "execution_count": null,
   "id": "b590f7c0-e929-4dfe-b34d-b64d9cede0c9",
   "metadata": {},
   "outputs": [],
   "source": [
    "# 生成初始训练数据集\n",
    "! ai2-kit tool dpdata read ./00-aimd --fmt cp2kdata/md --cp2k_output_name=output - write ./data/train"
   ]
  },
  {
   "cell_type": "code",
   "execution_count": null,
   "id": "f163421c-706e-41af-b424-288a88bf4acc",
   "metadata": {},
   "outputs": [],
   "source": [
    "# 生成初始结构\n",
    "# 以下命令以每 20 帧为间隔从 AIMD 轨迹中抽取结构\n",
    "# 并限制最大帧数为 50\n",
    "# 使用 `set_by_ref` 从结构文件获取 cell, pbc 等信息\n",
    "# 然后以 xyz 格式写入指定位置\n",
    "# 实际使用时可根据实际需求对参数进行调整\n",
    "! ai2-kit tool ase read ./00-aimd/*-pos-1.xyz --index '::20' - limit 50 - set_by_ref POSCAR - write ./data/explore/init.xyz"
   ]
  },
  {
   "cell_type": "markdown",
   "id": "3c1cde86",
   "metadata": {},
   "source": [
    "# 训练势函数"
   ]
  },
  {
   "cell_type": "markdown",
   "id": "99e9afbb-d38f-4f35-9eb3-a5a1524bd54b",
   "metadata": {},
   "source": [
    "## 生成 ai2-kit 势函数训练工作流配置\n",
    "\n",
    "AIMD 作业顺利完成后可从其输出得到轨迹数据。这里可同样借助 `ai2-cat` 自动生成相关配置文件。需要生成的文件包括\n",
    "1. CP2K 配置文件 cp2k.inp\n",
    "2. DeepMD 配置文件 deepmd.json\n",
    "3. PLUMED 配置文件 plumed.dat\n",
    "4. ai2-kit cll-mpl-training 配置文件 training.yml, executor.yml"
   ]
  },
  {
   "cell_type": "code",
   "execution_count": null,
   "id": "ccfd7bbc-76fc-43b7-8059-183d295c74d9",
   "metadata": {},
   "outputs": [],
   "source": [
    "! ai2-cat build_config load_system POSCAR - gen_deepmd_input --out_dir ./01-train\n",
    "! ai2-cat build_config load_system POSCAR - gen_cp2k_input \\\n",
    "  --basic_set_file /public/groups/ai4ec/data/cp2k/BASIS_MOLOPT \\\n",
    "  --potential_file /public/groups/ai4ec/data/cp2k/GTH_POTENTIALS \\\n",
    "  --out_dir ./01-train\n",
    "! ai2-cat build_config load_system POSCAR - gen_plumed_input --out_dir ./01-train\n",
    "! ai2-cat build_config load_system POSCAR - gen_mlp_training_input --out_dir ./01-train\n",
    "! cp /public/groups/ai4ec/data/ai2-kit/executor.yml ./01-train"
   ]
  },
  {
   "cell_type": "markdown",
   "id": "4c1e93c7-9e5a-4b53-98bf-175d9b2d8392",
   "metadata": {},
   "source": [
    "## 编辑 `ai2-kit` 势函数训练工作流配置\n",
    "目前由于技术方案的限制，自动生成的配置文件中仍有部分需要人工进行调整，其最小改动如下\n",
    "* `plumed.dat`, plumed 的配置, 需要由用户定义增强采样的反应坐标, 以及其它所需的命令\n",
    "  * 例如增加 `CV1: DISTANCE ATOMS=14,15`，根据具体的研究目标进行配置\n",
    "* `training.yml`，需要用户指定使用的数据路径，并在工作流中引用\n",
    "  * 例如在 `artifacts` 一节中需要配置所需使用的体系等\n",
    "\n",
    "更具体的配置文档可参考以下 [文档](https://github.com/chenggroup/ai2-kit/blob/main/doc/manual/cll-workflow.zh.md) 和 [配置示例](https://github.com/chenggroup/ai2-kit/tree/main/example/config/cll-mlp-training)。"
   ]
  },
  {
   "cell_type": "markdown",
   "id": "77cc500c-f151-43b9-ac04-57d76614b2e4",
   "metadata": {},
   "source": [
    "## 执行 `ai2-kit` 势函数训练工作流\n",
    "\n",
    "配置确认无误后，即可使用以下命令在后台启动训练。"
   ]
  },
  {
   "cell_type": "code",
   "execution_count": null,
   "id": "b9b06d1f-7e04-48f8-8a8c-06fef22f4483",
   "metadata": {},
   "outputs": [],
   "source": [
    "project_prefix = 'ai2cat-demo/run-01'  # 请根据项目的工作目录修改\n",
    "os.system(f\"cd ./01-train && nohup ai2-kit workflow cll-mlp-training *.yml --executor ikkem --path-prefix {project_prefix} &\")"
   ]
  },
  {
   "cell_type": "code",
   "execution_count": null,
   "id": "bd06350d-81c5-4a1e-8c02-e59b694d4819",
   "metadata": {},
   "outputs": [],
   "source": [
    "# 通过以下命令查看日志输出以确定执行是否正常\n",
    "! tail -f ./01-train/nohup.out"
   ]
  },
  {
   "cell_type": "markdown",
   "id": "a8c00880",
   "metadata": {},
   "source": [
    "## 阶段性结果检查\n",
    "在很多情况下，尤其是针对复杂体系，势函数的训练往往不是一蹴而就。因此，一种比较稳健的策略阶段性地执行工作流，即在训练开始时指定较小的 `max_iter`, 在训练完成后对输出进行检查，并根据结果对配置进行必要的调整 (手动打开配置文件进行更新) 再次执行相同的训练命令，此时工作流会继承先前的状态，继续执行后续的迭代，直到势函数的训练结果满足要求。\n",
    "\n",
    "以下使用 `ai2-cat` 工具包中提供的工具对结果进行检查。\n",
    "\n",
    "### 检查 DeepMD lcurve.out 文件"
   ]
  },
  {
   "cell_type": "code",
   "execution_count": null,
   "id": "bff02df7-1074-45ad-91a6-1b71ee98cd0a",
   "metadata": {},
   "outputs": [],
   "source": [
    "from ai2_kit.tool.deepmd import display_lcurve\n",
    "lcurve_file = '/path/to/lcurve.out'\n",
    "display_lcurve(lcurve_file)"
   ]
  },
  {
   "cell_type": "markdown",
   "id": "af36d621-0cc0-4124-887b-43c75842b0f4",
   "metadata": {},
   "source": [
    "### 检查 LAMMPS 输出"
   ]
  },
  {
   "cell_type": "code",
   "execution_count": null,
   "id": "662a9a1e-0bfd-49bb-b27c-c57ba6283a33",
   "metadata": {},
   "outputs": [],
   "source": [
    "lammps_task_dir = '/path/to/lammps/task'\n",
    "ai2cat.inspect_explore_result(lammps_dir)"
   ]
  },
  {
   "cell_type": "markdown",
   "id": "0ab179bb",
   "metadata": {},
   "source": [
    "# 基于势函数进行动态催化模拟\n",
    "\n",
    "在得到满足要求的势函数后，即可使用势函数进行动态催化模拟以得到相关性质，并对输出结果进行分析得到报告。"
   ]
  },
  {
   "cell_type": "markdown",
   "id": "c2fbe152-1a70-4830-b799-2e943b6a6727",
   "metadata": {},
   "source": [
    "## 使用势函数生产性质所需数据"
   ]
  },
  {
   "cell_type": "markdown",
   "id": "298b04cc-61df-4511-b09a-1feae6566b36",
   "metadata": {},
   "source": [
    "## 生成报告"
   ]
  },
  {
   "cell_type": "code",
   "execution_count": null,
   "id": "d5480f06-6be5-4529-8234-69d3f723603f",
   "metadata": {},
   "outputs": [],
   "source": []
  }
 ],
 "metadata": {
  "kernelspec": {
   "display_name": "Python 3 (ipykernel)",
   "language": "python",
   "name": "python3"
  },
  "language_info": {
   "codemirror_mode": {
    "name": "ipython",
    "version": 3
   },
   "file_extension": ".py",
   "mimetype": "text/x-python",
   "name": "python",
   "nbconvert_exporter": "python",
   "pygments_lexer": "ipython3",
   "version": "3.9.12"
  },
  "latex_envs": {
   "LaTeX_envs_menu_present": true,
   "autoclose": false,
   "autocomplete": true,
   "bibliofile": "biblio.bib",
   "cite_by": "apalike",
   "current_citInitial": 1,
   "eqLabelWithNumbers": true,
   "eqNumInitial": 1,
   "hotkeys": {
    "equation": "Ctrl-E",
    "itemize": "Ctrl-I"
   },
   "labels_anchors": false,
   "latex_user_defs": false,
   "report_style_numbering": false,
   "user_envs_cfg": false
  },
  "toc": {
   "base_numbering": 1,
   "nav_menu": {},
   "number_sections": true,
   "sideBar": true,
   "skip_h1_title": false,
   "title_cell": "Table of Contents",
   "title_sidebar": "Contents",
   "toc_cell": false,
   "toc_position": {},
   "toc_section_display": true,
   "toc_window_display": false
  }
 },
 "nbformat": 4,
 "nbformat_minor": 5
}
